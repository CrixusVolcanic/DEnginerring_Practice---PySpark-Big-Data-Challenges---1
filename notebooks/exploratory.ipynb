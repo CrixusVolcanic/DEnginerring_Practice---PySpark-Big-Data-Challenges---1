{
 "cells": [
  {
   "cell_type": "code",
   "execution_count": 23,
   "metadata": {},
   "outputs": [],
   "source": [
    "from pyspark.sql import SparkSession\n",
    "from pyspark.sql.functions import count, sum\n",
    "spark = SparkSession.builder.appName(\"Challenge 1\").getOrCreate()\n",
    "df = spark.read.format(\"CSV\").option(\"header\", True).load(\"../resources/population.csv\")"
   ]
  },
  {
   "cell_type": "code",
   "execution_count": 29,
   "metadata": {},
   "outputs": [
    {
     "name": "stdout",
     "output_type": "stream",
     "text": [
      "root\n",
      " |-- Country Name: string (nullable = true)\n",
      " |-- Country Code: string (nullable = true)\n",
      " |-- Year: string (nullable = true)\n",
      " |-- Value: string (nullable = true)\n",
      "\n",
      "+------------+------------+----+-----+\n",
      "|Country Name|Country Code|Year|Value|\n",
      "+------------+------------+----+-----+\n",
      "|       Aruba|         ABW|1960|54608|\n",
      "+------------+------------+----+-----+\n",
      "only showing top 1 row\n",
      "\n"
     ]
    },
    {
     "data": {
      "text/plain": [
       "16400"
      ]
     },
     "execution_count": 29,
     "metadata": {},
     "output_type": "execute_result"
    }
   ],
   "source": [
    "df.printSchema()\n",
    "df.show(1)\n",
    "df.count()"
   ]
  },
  {
   "cell_type": "code",
   "execution_count": 27,
   "metadata": {},
   "outputs": [
    {
     "name": "stdout",
     "output_type": "stream",
     "text": [
      "+--------------------+------+----------------+\n",
      "|        Country Name|county|     Total Value|\n",
      "+--------------------+------+----------------+\n",
      "|          South Asia|    62| 7.3697216921E10|\n",
      "|                Chad|    62|    4.63011654E8|\n",
      "| Lower middle income|    62|1.29367376599E11|\n",
      "|            Paraguay|    62|    2.57618836E8|\n",
      "| Low & middle income|    62|2.67739006632E11|\n",
      "|Heavily indebted ...|    62|  2.572405702E10|\n",
      "|               World|    62|3.32735496461E11|\n",
      "|    Congo, Dem. Rep.|    62|      2.650141E9|\n",
      "|             Senegal|    62|    5.21042734E8|\n",
      "|          Cabo Verde|    62|     2.4432038E7|\n",
      "|              Sweden|    62|    5.39220562E8|\n",
      "|East Asia & Pacif...|    62| 9.6024334075E10|\n",
      "|            Kiribati|    62|       4983253.0|\n",
      "|Least developed c...|    62| 3.5517606878E10|\n",
      "|              Guyana|    62|     4.5799217E7|\n",
      "|             Eritrea|    62|    1.33768163E8|\n",
      "|         Philippines|    62|    4.07731583E9|\n",
      "|Pacific island sm...|    62|    1.09126859E8|\n",
      "|            Djibouti|    62|     3.4068938E7|\n",
      "|               Tonga|    62|       5987216.0|\n",
      "+--------------------+------+----------------+\n",
      "only showing top 20 rows\n",
      "\n"
     ]
    }
   ],
   "source": [
    "df.groupBy(\"Country Name\").agg(count(\"*\").alias(\"Count\")\n",
    "                                ,sum(\"Value\").alias(\"Total Value\")).show()"
   ]
  }
 ],
 "metadata": {
  "kernelspec": {
   "display_name": "3.11.2",
   "language": "python",
   "name": "python3"
  },
  "language_info": {
   "codemirror_mode": {
    "name": "ipython",
    "version": 3
   },
   "file_extension": ".py",
   "mimetype": "text/x-python",
   "name": "python",
   "nbconvert_exporter": "python",
   "pygments_lexer": "ipython3",
   "version": "3.11.2"
  }
 },
 "nbformat": 4,
 "nbformat_minor": 2
}
